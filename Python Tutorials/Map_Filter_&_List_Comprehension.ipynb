{
  "nbformat": 4,
  "nbformat_minor": 0,
  "metadata": {
    "colab": {
      "name": "Map_Filter_&_List_Comprehension.ipynb",
      "provenance": [],
      "authorship_tag": "ABX9TyNKc45sPN6mo8fvQRZyDuS7",
      "include_colab_link": true
    },
    "kernelspec": {
      "name": "python3",
      "display_name": "Python 3"
    },
    "language_info": {
      "name": "python"
    }
  },
  "cells": [
    {
      "cell_type": "markdown",
      "metadata": {
        "id": "view-in-github",
        "colab_type": "text"
      },
      "source": [
        "<a href=\"https://colab.research.google.com/github/ashikshafi08/Python_Goodies/blob/main/Python%20Tutorials/Map_Filter_%26_List_Comprehension.ipynb\" target=\"_parent\"><img src=\"https://colab.research.google.com/assets/colab-badge.svg\" alt=\"Open In Colab\"/></a>"
      ]
    },
    {
      "cell_type": "markdown",
      "metadata": {
        "id": "f9GfjuReXdGu"
      },
      "source": [
        "# How to use Maps, Filters and List Comprehension in Python. \n",
        "\n",
        "This notebook will covers the tutorial of map,filter and list comprehension. It's me learning these python goodies and documenting aside, so someday I could look up and revise stuffs. \n",
        "\n",
        "I am going through the course on Coursera called **Python-3 Programming from University of Michigan**. Gotta admit I learnt alot of Python from there and still doing. Earlier I used to take notes on Notion, but now I thought of getting my hands dirty by coding along and take notes in Colab. \n",
        "\n",
        "Also anyone interested or wanna refresh their Python skills could even make use of it. \n",
        "\n"
      ]
    },
    {
      "cell_type": "markdown",
      "metadata": {
        "id": "Z2ig85iV0zUr"
      },
      "source": [
        "## Maps\n",
        "Python provides built-in functions `map` and `filter`, even a new syntax called **list comprehension** that lets you express a mapping/filtering operation. Most documentations and programmers use list comprehension and it seem's more like a pythonic way of writing code. \n",
        "\n",
        "Map, and filter are commands that you would use in high-performance computing on big datasets. http://en.wikipedia.org/wiki/MapReduce"
      ]
    },
    {
      "cell_type": "code",
      "metadata": {
        "colab": {
          "base_uri": "https://localhost:8080/"
        },
        "id": "ggyUj1k6YD06",
        "outputId": "04d70c9b-83ac-48d0-d7a2-1cea2b830544"
      },
      "source": [
        "# Double's the values in a list \n",
        "def doubleStuff(a_list):\n",
        "  '''\n",
        "  Returns a new list in which contains doubles of the elements in a list\n",
        "  '''\n",
        "  # Accum list \n",
        "  new_list = []\n",
        "\n",
        "  # Looping through values and making the calculation\n",
        "  for value in a_list:\n",
        "    double_elem = 2 * value \n",
        "    new_list.append(double_elem)\n",
        "  return new_list\n",
        "\n",
        "# Using the above function \n",
        "a_list = [1 , 2, 3 , 4, 5 , 6]\n",
        "print(f'List before the values were got double: {a_list}')\n",
        "double_list = doubleStuff(a_list)\n",
        "print(f'\\nThe list after the values they got double the number: {double_list}')"
      ],
      "execution_count": 5,
      "outputs": [
        {
          "output_type": "stream",
          "text": [
            "List before the values were got double: [1, 2, 3, 4, 5, 6]\n",
            "\n",
            "The list after the values they got double the number: [2, 4, 6, 8, 10, 12]\n"
          ],
          "name": "stdout"
        }
      ]
    },
    {
      "cell_type": "markdown",
      "metadata": {
        "id": "TqFu0xRzeYeq"
      },
      "source": [
        "We can write the above function with less than one line of code using the `map` function. \n",
        "\n",
        "Map is a function which takes functions as the first input and sequence as an second input. `map(function , sequence)`. Map just says apply the transforms (function) to every element in this sequence. \n",
        "\n",
        "Map always expects a transformer function. "
      ]
    },
    {
      "cell_type": "code",
      "metadata": {
        "colab": {
          "base_uri": "https://localhost:8080/"
        },
        "id": "HNRVH0MPhzjA",
        "outputId": "72a25e0e-c309-439f-820a-6f24f1377cf3"
      },
      "source": [
        "# Reproducing the above doubleStuff function using map \n",
        "def double(value):\n",
        "  return 2*value\n",
        "\n",
        "map_double_list = list(map(double , a_list))\n",
        "print(f'Using map function: {map_double_list}')"
      ],
      "execution_count": 11,
      "outputs": [
        {
          "output_type": "stream",
          "text": [
            "Using map function: [2, 4, 6, 8, 10, 12]\n"
          ],
          "name": "stdout"
        }
      ]
    },
    {
      "cell_type": "markdown",
      "metadata": {
        "id": "7I4lpQJYkLTn"
      },
      "source": [
        "I earlier tried just `map(double , a_list)` which gave me just the map object. It turns out to be enclosing the map object by a list will gives us the list object. \n",
        "\n",
        "**But why this happens?**\n",
        "Map function returns an iterator, it doesn't want to store the list in it's memory. It's still an iterator and we can grab the list we needed by enclosing the map object by a `list` which prevents pain to memory . "
      ]
    },
    {
      "cell_type": "code",
      "metadata": {
        "colab": {
          "base_uri": "https://localhost:8080/"
        },
        "id": "QzO1KrwTi5kj",
        "outputId": "556e4b9a-ef09-4ddd-8089-683291c60aeb"
      },
      "source": [
        "# We can even pass a lambda expression as an transformer function \n",
        "# Multiply 5 to every value\n",
        "\n",
        "map_lambda_list = list(map(lambda value: 5*value , a_list))\n",
        "print(f'Multiplying 5 to every element: {map_lambda_list}')"
      ],
      "execution_count": 12,
      "outputs": [
        {
          "output_type": "stream",
          "text": [
            "Multiplying 5 to every element: [5, 10, 15, 20, 25, 30]\n"
          ],
          "name": "stdout"
        }
      ]
    },
    {
      "cell_type": "markdown",
      "metadata": {
        "id": "7vVOQ7pPjIV0"
      },
      "source": [
        "### Let's Solve some Problems! \n",
        "\n",
        "Gotta go through more: https://www.w3resource.com/python-exercises/map/index.php"
      ]
    },
    {
      "cell_type": "markdown",
      "metadata": {
        "id": "F0q-Nzd_v_hA"
      },
      "source": [
        "1. Below we have provided a list of strings called `abbrevs`. Use map to produce a new list called `abbrevs_upper` that contains all the same strings in upper case. "
      ]
    },
    {
      "cell_type": "code",
      "metadata": {
        "id": "MuD3ZW2GnCOa"
      },
      "source": [
        "# List of country's abbrevation\n",
        "abbrevs = ['usa' , 'esp' , 'chn' , 'jpn' , 'mex' , 'can' , 'rus' ,  'rsa' , 'jam']"
      ],
      "execution_count": 15,
      "outputs": []
    },
    {
      "cell_type": "code",
      "metadata": {
        "colab": {
          "base_uri": "https://localhost:8080/"
        },
        "id": "gsvX1jz_m8Ki",
        "outputId": "c3046e77-2c50-4317-93c8-9174e9c775fc"
      },
      "source": [
        "# With manual acccumlation \n",
        "upperAbbrev_list = []\n",
        "for abbrev in abbrevs:\n",
        "  upperAbbrev_list.append(abbrev.upper())\n",
        "print(upperAbbrev_list)\n"
      ],
      "execution_count": 17,
      "outputs": [
        {
          "output_type": "stream",
          "text": [
            "['USA', 'ESP', 'CHN', 'JPN', 'MEX', 'CAN', 'RUS', 'RSA', 'JAM']\n"
          ],
          "name": "stdout"
        }
      ]
    },
    {
      "cell_type": "code",
      "metadata": {
        "colab": {
          "base_uri": "https://localhost:8080/"
        },
        "id": "sMYOwz2kl-pn",
        "outputId": "f7de2a14-435d-4529-8721-6d892591ce0a"
      },
      "source": [
        "# Using map to convert them into Uppercase \n",
        "upperCase_abbrevs = list(map(lambda abbrev: abbrev.upper() , abbrevs))\n",
        "print(upperCase_abbrevs)\n",
        "        "
      ],
      "execution_count": 18,
      "outputs": [
        {
          "output_type": "stream",
          "text": [
            "['USA', 'ESP', 'CHN', 'JPN', 'MEX', 'CAN', 'RUS', 'RSA', 'JAM']\n"
          ],
          "name": "stdout"
        }
      ]
    },
    {
      "cell_type": "markdown",
      "metadata": {
        "id": "ZPyf8g-ymwfF"
      },
      "source": [
        "2. Using `map`, create a list assigned to the variable `greeting_doubled` that doubles each element in the list. \n",
        "\n",
        "`lst = [[\"hi\", \"bye\"], \"hello\", \"goodbye\", [9, 2], 4]`"
      ]
    },
    {
      "cell_type": "code",
      "metadata": {
        "colab": {
          "base_uri": "https://localhost:8080/"
        },
        "id": "QVhwI3Y8uu2X",
        "outputId": "88fecec6-a8db-4b2b-8e4d-665a2aa1f6c8"
      },
      "source": [
        "# The list to double \n",
        "lst = [[\"hi\", \"bye\"], \"hello\", \"goodbye\", [9, 2], 4]\n",
        "\n",
        "greeting_doubled = list(map(lambda element: 2 * element , lst))\n",
        "print(greeting_doubled)"
      ],
      "execution_count": 19,
      "outputs": [
        {
          "output_type": "stream",
          "text": [
            "[['hi', 'bye', 'hi', 'bye'], 'hellohello', 'goodbyegoodbye', [9, 2, 9, 2], 8]\n"
          ],
          "name": "stdout"
        }
      ]
    },
    {
      "cell_type": "markdown",
      "metadata": {
        "id": "Zd38fIOdu10M"
      },
      "source": [
        "3. Write a Python program to add three given lists using Python map and lambda"
      ]
    },
    {
      "cell_type": "code",
      "metadata": {
        "colab": {
          "base_uri": "https://localhost:8080/"
        },
        "id": "whZltgHuvEO1",
        "outputId": "cff8f3cb-c410-43f3-e74d-6abd05d26d06"
      },
      "source": [
        "list(map(lambda a,b,c: a + b + c , [1 , 2 ,3] , [4 ,5 , 6] , [7 ,8 , 9]))"
      ],
      "execution_count": 22,
      "outputs": [
        {
          "output_type": "execute_result",
          "data": {
            "text/plain": [
              "[12, 15, 18]"
            ]
          },
          "metadata": {
            "tags": []
          },
          "execution_count": 22
        }
      ]
    },
    {
      "cell_type": "markdown",
      "metadata": {
        "id": "Ox1bqrO1vr1C"
      },
      "source": [
        "## Filters\n",
        "Filter function `filter` takes two arguments same like our `map` which has both function and a sequence parameters. Instead mapping them or making calculation with eachother, `filter` filters out the numbers either **True or False**.\n",
        "\n",
        "The function takes one item and return True if the item should. It is automatically called for each item in the sequence\n",
        "\n",
        "`filter` returns an iterator object like map, so we gotta wrap them by `list`.\n"
      ]
    },
    {
      "cell_type": "code",
      "metadata": {
        "colab": {
          "base_uri": "https://localhost:8080/"
        },
        "id": "DuyYP6ddwYok",
        "outputId": "74066de1-007d-4e7a-a817-035efcfc76fe"
      },
      "source": [
        "# Manual Accumulation which filters only the even numbers \n",
        "def keep_evens(a_list):\n",
        "  new_list = []\n",
        "  for elem in a_list:\n",
        "    if elem % 2 == 0:\n",
        "      new_list.append(elem)\n",
        "  return new_list\n",
        "\n",
        "# Using the above function \n",
        "mixList = [2 , 88 , 33 , 22 , 14 , 0 , 8 , 10 , 20 , 4]\n",
        "evenList = keep_evens(mixList)\n",
        "print(evenList)\n"
      ],
      "execution_count": 27,
      "outputs": [
        {
          "output_type": "stream",
          "text": [
            "[2, 88, 22, 14, 0, 8, 10, 20, 4]\n"
          ],
          "name": "stdout"
        }
      ]
    },
    {
      "cell_type": "code",
      "metadata": {
        "colab": {
          "base_uri": "https://localhost:8080/"
        },
        "id": "P_fPROhdxduY",
        "outputId": "afde603b-d2c4-47b7-c8d6-0172f8965273"
      },
      "source": [
        "# Using the filter function \n",
        "filterEvenList = list(filter(lambda elem: elem % 2 == 0 , mixList))\n",
        "print(filterEvenList)"
      ],
      "execution_count": 29,
      "outputs": [
        {
          "output_type": "stream",
          "text": [
            "[2, 88, 22, 14, 0, 8, 10, 20, 4]\n"
          ],
          "name": "stdout"
        }
      ]
    },
    {
      "cell_type": "markdown",
      "metadata": {
        "id": "c9UP4Zz6xer5"
      },
      "source": [
        "### Let's Solve some Problems "
      ]
    },
    {
      "cell_type": "markdown",
      "metadata": {
        "id": "6EnTx1Bi04vY"
      },
      "source": [
        "1. Using filter, filter `lst` so that it only contains words containing the letter 'o'. Assign to variable `lst2`. \n",
        "\n",
        "``` \n",
        "lst = ['witch' , 'halloween' , 'pumpkin' , 'cat' , 'candy' , 'wagon' ,'moon']\n",
        "```"
      ]
    },
    {
      "cell_type": "code",
      "metadata": {
        "colab": {
          "base_uri": "https://localhost:8080/"
        },
        "id": "xM0sVLES1Jvb",
        "outputId": "f872d9e6-fe51-4b6a-f7b3-22abd57f9d42"
      },
      "source": [
        "lst = ['witch' , 'halloween' , 'pumpkin' , 'cat' , 'candy' , 'wagon' , 'moon']\n",
        "\n",
        "lst2 = list(filter(lambda elem: 'o' in elem , lst))\n",
        "print(lst2)"
      ],
      "execution_count": 30,
      "outputs": [
        {
          "output_type": "stream",
          "text": [
            "['halloween', 'wagon', 'moon']\n"
          ],
          "name": "stdout"
        }
      ]
    },
    {
      "cell_type": "markdown",
      "metadata": {
        "id": "Wp55DYT21p80"
      },
      "source": [
        "2. Write code to assign to the variable `filter_testing` all the elements in `lst_check` that have a 'w' in them using filter.\n",
        "\n",
        "```\n",
        "lst_check = ['plums', 'watermelon', 'kiwi', 'strawberries', 'blueberries', 'peaches', 'apples', 'mangos', 'papaya']\n",
        "\n",
        "```\n",
        "\n"
      ]
    },
    {
      "cell_type": "code",
      "metadata": {
        "colab": {
          "base_uri": "https://localhost:8080/"
        },
        "id": "54w13zsO2jMG",
        "outputId": "332b266c-2a9a-4be3-e378-e8974bd482cf"
      },
      "source": [
        "lst_check = ['plums', 'watermelon', 'kiwi', 'strawberries', 'blueberries', 'peaches', 'apples', 'mangos', 'papaya']\n",
        "\n",
        "filter_testing = list(filter(lambda word: 'w' in word , lst_check))\n",
        "print(filter_testing)"
      ],
      "execution_count": 31,
      "outputs": [
        {
          "output_type": "stream",
          "text": [
            "['watermelon', 'kiwi', 'strawberries']\n"
          ],
          "name": "stdout"
        }
      ]
    },
    {
      "cell_type": "code",
      "metadata": {
        "id": "rGVDVDWh2s4L"
      },
      "source": [
        ""
      ],
      "execution_count": null,
      "outputs": []
    }
  ]
}